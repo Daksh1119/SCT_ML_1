{
  "cells": [
    {
      "cell_type": "markdown",
      "metadata": {},
      "source": [
        "# House Price Analysis\n",
        "\n",
        "This is a placeholder. Upload your full notebook from Colab when ready."
      ]
    }
  ],
  "metadata": {},
  "nbformat": 4,
  "nbformat_minor": 2
}